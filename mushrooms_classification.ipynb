{
  "nbformat": 4,
  "nbformat_minor": 0,
  "metadata": {
    "colab": {
      "name": "mushrooms_classification",
      "provenance": [],
      "collapsed_sections": [],
      "authorship_tag": "ABX9TyPdZ76FfnILaqNVEJ3USOqF",
      "include_colab_link": true
    },
    "kernelspec": {
      "name": "python3",
      "display_name": "Python 3"
    },
    "language_info": {
      "name": "python"
    }
  },
  "cells": [
    {
      "cell_type": "markdown",
      "metadata": {
        "id": "view-in-github",
        "colab_type": "text"
      },
      "source": [
        "<a href=\"https://colab.research.google.com/github/iremcatak/datamining_mushroom/blob/main/mushrooms_classification.ipynb\" target=\"_parent\"><img src=\"https://colab.research.google.com/assets/colab-badge.svg\" alt=\"Open In Colab\"/></a>"
      ]
    },
    {
      "cell_type": "code",
      "source": [
        "#importing libraries"
      ],
      "metadata": {
        "id": "f1JdANinUXDP"
      },
      "execution_count": null,
      "outputs": []
    },
    {
      "cell_type": "code",
      "execution_count": null,
      "metadata": {
        "id": "xtrej8h0LNEG"
      },
      "outputs": [],
      "source": [
        "import numpy as np\n",
        "import pandas as pd\n",
        "import matplotlib.pyplot as plt\n",
        "import pandas as pd\n",
        "import io\n",
        "\n",
        "from sklearn.preprocessing import LabelEncoder\n",
        "from sklearn.preprocessing import StandardScaler\n",
        "from sklearn.model_selection import train_test_split\n",
        "from sklearn.linear_model import LogisticRegression\n",
        "from sklearn.svm import SVC\n",
        "from sklearn.neural_network import MLPClassifier"
      ]
    },
    {
      "cell_type": "code",
      "source": [
        "#uploading dataset "
      ],
      "metadata": {
        "id": "VquTx4zAxyU9"
      },
      "execution_count": null,
      "outputs": []
    },
    {
      "cell_type": "code",
      "source": [
        "data = pd.read_csv(io.BytesIO(uploaded['mushrooms.csv']))\n",
        "data"
      ],
      "metadata": {
        "id": "I2XszVz9LemM"
      },
      "execution_count": null,
      "outputs": []
    },
    {
      "cell_type": "code",
      "source": [
        "#Preprocessing"
      ],
      "metadata": {
        "id": "JOXXwh6bMSmu"
      },
      "execution_count": null,
      "outputs": []
    },
    {
      "cell_type": "code",
      "source": [
        "mappings=list()\n",
        "encoder=LabelEncoder()\n",
        "for column in range(len(data.columns)):\n",
        "  data[data.columns[column]]=encoder.fit_transform(data[data.columns[column]])\n",
        "  mappings_dict= {index: label for index, label in enumerate(encoder.classes_)}\n",
        "  mappings.append(mappings_dict)"
      ],
      "metadata": {
        "id": "NCcIvLHQW3PV"
      },
      "execution_count": null,
      "outputs": []
    },
    {
      "cell_type": "code",
      "source": [
        "mappings"
      ],
      "metadata": {
        "id": "gdGx41qCNAU7"
      },
      "execution_count": null,
      "outputs": []
    },
    {
      "cell_type": "code",
      "source": [
        "y=data['class']\n",
        "x=data.drop('class',axis=1)"
      ],
      "metadata": {
        "id": "V6bNsFjRkgeI"
      },
      "execution_count": null,
      "outputs": []
    },
    {
      "cell_type": "code",
      "source": [
        "scaler=StandardScaler()\n",
        "x=pd.DataFrame(scaler.fit_transform(x),columns=x.columns)"
      ],
      "metadata": {
        "id": "h375n62Vn7Qw"
      },
      "execution_count": null,
      "outputs": []
    },
    {
      "cell_type": "code",
      "source": [
        "x"
      ],
      "metadata": {
        "id": "NBumKJ9xor5L"
      },
      "execution_count": null,
      "outputs": []
    },
    {
      "cell_type": "code",
      "source": [
        "x_train,x_test,y_train,y_test=train_test_split(x,y,train_size=0.8)"
      ],
      "metadata": {
        "id": "B7eu8lxRpJLw"
      },
      "execution_count": null,
      "outputs": []
    },
    {
      "cell_type": "code",
      "source": [
        "#Model Selection"
      ],
      "metadata": {
        "id": "Lu7qwlSOrEQb"
      },
      "execution_count": null,
      "outputs": []
    },
    {
      "cell_type": "code",
      "source": [
        "log_model=LogisticRegression()\n",
        "svm_model=SVC(C=1.0,kernel='rbf')\n",
        "nn_model=MLPClassifier(hidden_layer_sizes=(128,128))"
      ],
      "metadata": {
        "id": "d3B7DI9JrH9z"
      },
      "execution_count": null,
      "outputs": []
    },
    {
      "cell_type": "code",
      "source": [
        "#Training"
      ],
      "metadata": {
        "id": "_bhPhWrArNFj"
      },
      "execution_count": null,
      "outputs": []
    },
    {
      "cell_type": "code",
      "source": [
        "np.sum(y)/len(y)"
      ],
      "metadata": {
        "colab": {
          "base_uri": "https://localhost:8080/"
        },
        "id": "MQI4Pr3zuIWb",
        "outputId": "06647462-993b-486c-9d0a-c177c166ceb4"
      },
      "execution_count": null,
      "outputs": [
        {
          "output_type": "execute_result",
          "data": {
            "text/plain": [
              "0.48202855736090594"
            ]
          },
          "metadata": {},
          "execution_count": 80
        }
      ]
    },
    {
      "cell_type": "code",
      "source": [
        "log_model.fit(x_train,y_train)\n",
        "svm_model.fit(x_train,y_train)\n",
        "nn_model.fit(x_train,y_train)"
      ],
      "metadata": {
        "colab": {
          "base_uri": "https://localhost:8080/"
        },
        "id": "1e1gycbIuaO1",
        "outputId": "75235096-c2dd-4a8c-cf34-f89c1b0b2c5f"
      },
      "execution_count": null,
      "outputs": [
        {
          "output_type": "execute_result",
          "data": {
            "text/plain": [
              "MLPClassifier(hidden_layer_sizes=(128, 128))"
            ]
          },
          "metadata": {},
          "execution_count": 81
        }
      ]
    },
    {
      "cell_type": "code",
      "source": [
        "print(f\"Logistic Regression: {log_model.score(x_test,y_test)}\")\n",
        "print(f\"Support Vector Machine: {svm_model.score(x_test,y_test)}\")\n",
        "print(f\"Neural Network: {nn_model.score(x_test,y_test)}\")"
      ],
      "metadata": {
        "colab": {
          "base_uri": "https://localhost:8080/"
        },
        "id": "U0meT80FunAt",
        "outputId": "6febbacc-bf14-4276-a08f-1ba7036c9026"
      },
      "execution_count": null,
      "outputs": [
        {
          "output_type": "stream",
          "name": "stdout",
          "text": [
            "Logistic Regression: 0.9581538461538461\n",
            "Support Vector Machine: 1.0\n",
            "Neural Network: 1.0\n"
          ]
        }
      ]
    }
  ]
}