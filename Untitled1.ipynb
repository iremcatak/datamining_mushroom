{
  "nbformat": 4,
  "nbformat_minor": 0,
  "metadata": {
    "colab": {
      "name": "Untitled1.ipynb",
      "provenance": [],
      "collapsed_sections": [],
      "authorship_tag": "ABX9TyO6I4sWARPKKytq56Uyqxp6",
      "include_colab_link": true
    },
    "kernelspec": {
      "name": "python3",
      "display_name": "Python 3"
    },
    "language_info": {
      "name": "python"
    }
  },
  "cells": [
    {
      "cell_type": "markdown",
      "metadata": {
        "id": "view-in-github",
        "colab_type": "text"
      },
      "source": [
        "<a href=\"https://colab.research.google.com/github/iremcatak/datamining_mushroom/blob/main/Untitled1.ipynb\" target=\"_parent\"><img src=\"https://colab.research.google.com/assets/colab-badge.svg\" alt=\"Open In Colab\"/></a>"
      ]
    },
    {
      "cell_type": "code",
      "source": [
        "import io #paths to file\n",
        "import numpy as np # linear algebra\n",
        "import pandas as pd # data processing\n",
        "import warnings# warning filter\n",
        "\n",
        "#ploting libraries\n",
        "import matplotlib.pyplot as plt \n",
        "import seaborn as sns\n"
      ],
      "metadata": {
        "id": "CjDhiKI5OLpL"
      },
      "execution_count": 140,
      "outputs": []
    },
    {
      "cell_type": "code",
      "source": [
        "data= pd.read_csv(io.BytesIO(uploaded['mushrooms.csv']))\n",
        "data"
      ],
      "metadata": {
        "id": "FAJkHsmUSpah"
      },
      "execution_count": null,
      "outputs": []
    },
    {
      "cell_type": "code",
      "source": [
        "data.head()"
      ],
      "metadata": {
        "id": "yTr68sMsS1lp"
      },
      "execution_count": null,
      "outputs": []
    },
    {
      "cell_type": "code",
      "source": [
        "\"Data Shape (row, col): {}\".format(data.shape)"
      ],
      "metadata": {
        "colab": {
          "base_uri": "https://localhost:8080/",
          "height": 35
        },
        "id": "tORW4kdJTbh2",
        "outputId": "c63e21e5-31e3-4f10-c6a2-9710bed7d8cd"
      },
      "execution_count": 147,
      "outputs": [
        {
          "output_type": "execute_result",
          "data": {
            "application/vnd.google.colaboratory.intrinsic+json": {
              "type": "string"
            },
            "text/plain": [
              "'Data Shape (row, col): (8124, 23)'"
            ]
          },
          "metadata": {},
          "execution_count": 147
        }
      ]
    },
    {
      "cell_type": "code",
      "source": [
        "data.info()"
      ],
      "metadata": {
        "id": "RErlFRNJTz-L"
      },
      "execution_count": null,
      "outputs": []
    },
    {
      "cell_type": "code",
      "source": [
        "#missing values\n",
        "data.isnull().sum()"
      ],
      "metadata": {
        "id": "sDNFKBomT2sk"
      },
      "execution_count": null,
      "outputs": []
    },
    {
      "cell_type": "code",
      "source": [
        "columns = data.columns.to_list()\n",
        "print(\"Value Distribution:\\n\")\n",
        "for col in columns:\n",
        "    print(col,\"\\n\",data[col].value_counts(),\"\\n\\n\")"
      ],
      "metadata": {
        "id": "MfDyYzJxT5x4"
      },
      "execution_count": null,
      "outputs": []
    },
    {
      "cell_type": "code",
      "source": [
        "total = float(len(data[columns[0]]))\n",
        "plt.figure(figsize=(4,4))\n",
        "sns.set(style=\"dark\")\n",
        "ax = sns.countplot(data[columns[0]])\n",
        "for j in ax.patches:\n",
        "    height = j.get_height()\n",
        "    ax.text(j.get_x()+j.get_width()/2.,height + 3,'{:1.2f}'.format(height/total),ha=\"center\")\n",
        "plt.title(\"Target \", fontsize = 15)\n",
        "plt.show()"
      ],
      "metadata": {
        "id": "tw4H6kNeT9NS"
      },
      "execution_count": null,
      "outputs": []
    },
    {
      "cell_type": "code",
      "source": [
        "for col in columns[1:]:\n",
        "    plt.figure(figsize=(7,4))\n",
        "    sns.countplot(x=col , data=data ,palette='cubehelix')\n",
        "    plt.title(col, fontsize=15)\n",
        "    plt.show()\n",
        "    print(\"% of total:\")\n",
        "    print(round((data[col].value_counts()/data.shape[0]),4)*100)"
      ],
      "metadata": {
        "id": "rB9POJI6UKzU"
      },
      "execution_count": null,
      "outputs": []
    },
    {
      "cell_type": "code",
      "source": [
        "for col in columns[1:]: \n",
        "    plt.figure(figsize=(15,10))\n",
        "    plt.subplot(2,3,1)\n",
        "    sns.countplot(x=col ,hue='class', data=data ,palette='cubehelix')\n",
        "    plt.xlabel(col, fontsize=15)\n",
        "    plt.legend(loc='upper right')"
      ],
      "metadata": {
        "id": "FC0-m0yZUOPt"
      },
      "execution_count": null,
      "outputs": []
    },
    {
      "cell_type": "code",
      "source": [
        "[ pd.pivot_table(data, index=[col,\"class\"], aggfunc = {col:np.count_nonzero}) for col in columns[1:]]"
      ],
      "metadata": {
        "colab": {
          "base_uri": "https://localhost:8080/"
        },
        "id": "d6feC9heUoAo",
        "outputId": "c9aa5570-5390-4ccb-ef3c-967cb4afc405"
      },
      "execution_count": 190,
      "outputs": [
        {
          "output_type": "execute_result",
          "data": {
            "text/plain": [
              "[                 cap-shape\n",
              " cap-shape class           \n",
              " b         e            404\n",
              "           p             48\n",
              " c         p              4\n",
              " f         e           1596\n",
              "           p           1556\n",
              " k         e            228\n",
              "           p            600\n",
              " s         e             32\n",
              " x         e           1948\n",
              "           p           1708,                    cap-surface\n",
              " cap-surface class             \n",
              " f           e             1560\n",
              "             p              760\n",
              " g           p                4\n",
              " s           e             1144\n",
              "             p             1412\n",
              " y           e             1504\n",
              "             p             1740,                  cap-color\n",
              " cap-color class           \n",
              " b         e             48\n",
              "           p            120\n",
              " c         e             32\n",
              "           p             12\n",
              " e         e            624\n",
              "           p            876\n",
              " g         e           1032\n",
              "           p            808\n",
              " n         e           1264\n",
              "           p           1020\n",
              " p         e             56\n",
              "           p             88\n",
              " r         e             16\n",
              " u         e             16\n",
              " w         e            720\n",
              "           p            320\n",
              " y         e            400\n",
              "           p            672,                bruises\n",
              " bruises class         \n",
              " f       e         1456\n",
              "         p         3292\n",
              " t       e         2752\n",
              "         p          624,             odor\n",
              " odor class      \n",
              " a    e       400\n",
              " c    p       192\n",
              " f    p      2160\n",
              " l    e       400\n",
              " m    p        36\n",
              " n    e      3408\n",
              "      p       120\n",
              " p    p       256\n",
              " s    p       576\n",
              " y    p       576,                        gill-attachment\n",
              " gill-attachment class                 \n",
              " a               e                  192\n",
              "                 p                   18\n",
              " f               e                 4016\n",
              "                 p                 3898,                     gill-spacing\n",
              " gill-spacing class              \n",
              " c            e              3008\n",
              "              p              3804\n",
              " w            e              1200\n",
              "              p               112,                  gill-size\n",
              " gill-size class           \n",
              " b         e           3920\n",
              "           p           1692\n",
              " n         e            288\n",
              "           p           2224,                   gill-color\n",
              " gill-color class            \n",
              " b          p            1728\n",
              " e          e              96\n",
              " g          e             248\n",
              "            p             504\n",
              " h          e             204\n",
              "            p             528\n",
              " k          e             344\n",
              "            p              64\n",
              " n          e             936\n",
              "            p             112\n",
              " o          e              64\n",
              " p          e             852\n",
              "            p             640\n",
              " r          p              24\n",
              " u          e             444\n",
              "            p              48\n",
              " w          e             956\n",
              "            p             246\n",
              " y          e              64\n",
              "            p              22,                    stalk-shape\n",
              " stalk-shape class             \n",
              " e           e             1616\n",
              "             p             1900\n",
              " t           e             2592\n",
              "             p             2016,                   stalk-root\n",
              " stalk-root class            \n",
              " ?          e             720\n",
              "            p            1760\n",
              " b          e            1920\n",
              "            p            1856\n",
              " c          e             512\n",
              "            p              44\n",
              " e          e             864\n",
              "            p             256\n",
              " r          e             192,                                 stalk-surface-above-ring\n",
              " stalk-surface-above-ring class                          \n",
              " f                        e                           408\n",
              "                          p                           144\n",
              " k                        e                           144\n",
              "                          p                          2228\n",
              " s                        e                          3640\n",
              "                          p                          1536\n",
              " y                        e                            16\n",
              "                          p                             8,                                 stalk-surface-below-ring\n",
              " stalk-surface-below-ring class                          \n",
              " f                        e                           456\n",
              "                          p                           144\n",
              " k                        e                           144\n",
              "                          p                          2160\n",
              " s                        e                          3400\n",
              "                          p                          1536\n",
              " y                        e                           208\n",
              "                          p                            76,                               stalk-color-above-ring\n",
              " stalk-color-above-ring class                        \n",
              " b                      p                         432\n",
              " c                      p                          36\n",
              " e                      e                          96\n",
              " g                      e                         576\n",
              " n                      e                          16\n",
              "                        p                         432\n",
              " o                      e                         192\n",
              " p                      e                         576\n",
              "                        p                        1296\n",
              " w                      e                        2752\n",
              "                        p                        1712\n",
              " y                      p                           8,                               stalk-color-below-ring\n",
              " stalk-color-below-ring class                        \n",
              " b                      p                         432\n",
              " c                      p                          36\n",
              " e                      e                          96\n",
              " g                      e                         576\n",
              " n                      e                          64\n",
              "                        p                         448\n",
              " o                      e                         192\n",
              " p                      e                         576\n",
              "                        p                        1296\n",
              " w                      e                        2704\n",
              "                        p                        1680\n",
              " y                      p                          24,                  veil-type\n",
              " veil-type class           \n",
              " p         e           4208\n",
              "           p           3916,                   veil-color\n",
              " veil-color class            \n",
              " n          e              96\n",
              " o          e              96\n",
              " w          e            4016\n",
              "            p            3908\n",
              " y          p               8,                    ring-number\n",
              " ring-number class             \n",
              " n           p               36\n",
              " o           e             3680\n",
              "             p             3808\n",
              " t           e              528\n",
              "             p               72,                  ring-type\n",
              " ring-type class           \n",
              " e         e           1008\n",
              "           p           1768\n",
              " f         e             48\n",
              " l         p           1296\n",
              " n         p             36\n",
              " p         e           3152\n",
              "           p            816,                          spore-print-color\n",
              " spore-print-color class                   \n",
              " b                 e                     48\n",
              " h                 e                     48\n",
              "                   p                   1584\n",
              " k                 e                   1648\n",
              "                   p                    224\n",
              " n                 e                   1744\n",
              "                   p                    224\n",
              " o                 e                     48\n",
              " r                 p                     72\n",
              " u                 e                     48\n",
              " w                 e                    576\n",
              "                   p                   1812\n",
              " y                 e                     48,                   population\n",
              " population class            \n",
              " a          e             384\n",
              " c          e             288\n",
              "            p              52\n",
              " n          e             400\n",
              " s          e             880\n",
              "            p             368\n",
              " v          e            1192\n",
              "            p            2848\n",
              " y          e            1064\n",
              "            p             648,                habitat\n",
              " habitat class         \n",
              " d       e         1880\n",
              "         p         1268\n",
              " g       e         1408\n",
              "         p          740\n",
              " l       e          240\n",
              "         p          592\n",
              " m       e          256\n",
              "         p           36\n",
              " p       e          136\n",
              "         p         1008\n",
              " u       e           96\n",
              "         p          272\n",
              " w       e          192]"
            ]
          },
          "metadata": {},
          "execution_count": 190
        }
      ]
    },
    {
      "cell_type": "code",
      "source": [
        ""
      ],
      "metadata": {
        "id": "Ek4jU9lLU3gR"
      },
      "execution_count": null,
      "outputs": []
    }
  ]
}