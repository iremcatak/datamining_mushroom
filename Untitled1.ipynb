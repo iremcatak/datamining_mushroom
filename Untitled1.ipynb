{
  "nbformat": 4,
  "nbformat_minor": 0,
  "metadata": {
    "colab": {
      "name": "Untitled1.ipynb",
      "provenance": [],
      "collapsed_sections": [],
      "authorship_tag": "ABX9TyNkJJV+iRY5NFYSd7RfdMvl",
      "include_colab_link": true
    },
    "kernelspec": {
      "name": "python3",
      "display_name": "Python 3"
    },
    "language_info": {
      "name": "python"
    }
  },
  "cells": [
    {
      "cell_type": "markdown",
      "metadata": {
        "id": "view-in-github",
        "colab_type": "text"
      },
      "source": [
        "<a href=\"https://colab.research.google.com/github/iremcatak/datamining_mushroom/blob/main/Untitled1.ipynb\" target=\"_parent\"><img src=\"https://colab.research.google.com/assets/colab-badge.svg\" alt=\"Open In Colab\"/></a>"
      ]
    },
    {
      "cell_type": "code",
      "source": [
        "import io #paths to file\n",
        "import numpy as np # linear algebra\n",
        "import pandas as pd # data processing\n",
        "import warnings# warning filter\n",
        "\n",
        "#ploting libraries\n",
        "import matplotlib.pyplot as plt \n",
        "import seaborn as sns\n"
      ],
      "metadata": {
        "id": "CjDhiKI5OLpL"
      },
      "execution_count": 140,
      "outputs": []
    },
    {
      "cell_type": "code",
      "source": [
        "data= pd.read_csv(io.BytesIO(uploaded['mushrooms.csv']))\n",
        "data"
      ],
      "metadata": {
        "id": "FAJkHsmUSpah"
      },
      "execution_count": null,
      "outputs": []
    },
    {
      "cell_type": "code",
      "source": [
        "data.head()"
      ],
      "metadata": {
        "id": "yTr68sMsS1lp"
      },
      "execution_count": null,
      "outputs": []
    },
    {
      "cell_type": "code",
      "source": [
        "\"Data Shape (row, col): {}\".format(data.shape)"
      ],
      "metadata": {
        "colab": {
          "base_uri": "https://localhost:8080/",
          "height": 35
        },
        "id": "tORW4kdJTbh2",
        "outputId": "c63e21e5-31e3-4f10-c6a2-9710bed7d8cd"
      },
      "execution_count": 147,
      "outputs": [
        {
          "output_type": "execute_result",
          "data": {
            "application/vnd.google.colaboratory.intrinsic+json": {
              "type": "string"
            },
            "text/plain": [
              "'Data Shape (row, col): (8124, 23)'"
            ]
          },
          "metadata": {},
          "execution_count": 147
        }
      ]
    },
    {
      "cell_type": "code",
      "source": [
        "data.info()"
      ],
      "metadata": {
        "id": "RErlFRNJTz-L"
      },
      "execution_count": null,
      "outputs": []
    },
    {
      "cell_type": "code",
      "source": [
        "#missing values\n",
        "data.isnull().sum()"
      ],
      "metadata": {
        "id": "sDNFKBomT2sk"
      },
      "execution_count": null,
      "outputs": []
    },
    {
      "cell_type": "code",
      "source": [
        "columns = data.columns.to_list()\n",
        "print(\"Value Distribution:\\n\")\n",
        "for col in columns:\n",
        "    print(col,\"\\n\",data[col].value_counts(),\"\\n\\n\")"
      ],
      "metadata": {
        "id": "MfDyYzJxT5x4"
      },
      "execution_count": null,
      "outputs": []
    },
    {
      "cell_type": "code",
      "source": [
        "total = float(len(data[columns[0]]))\n",
        "plt.figure(figsize=(6,6))\n",
        "sns.set(style=\"dark\")\n",
        "ax = sns.countplot(data[columns[0]])\n",
        "for p in ax.patches:\n",
        "    height = p.get_height()\n",
        "    ax.text(p.get_x()+p.get_width()/2.,height + 3,'{:1.2f}'.format(height/total),ha=\"center\")\n",
        "plt.title(\"Target \", fontsize = 15)\n",
        "plt.show()"
      ],
      "metadata": {
        "id": "tw4H6kNeT9NS"
      },
      "execution_count": null,
      "outputs": []
    },
    {
      "cell_type": "code",
      "source": [
        "for col in columns[1:]:\n",
        "    plt.figure(figsize=(10,4))\n",
        "    sns.countplot(x=col , data=data ,palette='icefire')\n",
        "    plt.title(col, fontsize=14)\n",
        "    plt.show()\n",
        "    print(\"% of total:\")\n",
        "    print(round((data[col].value_counts()/data.shape[0]),4)*100)"
      ],
      "metadata": {
        "id": "rB9POJI6UKzU"
      },
      "execution_count": null,
      "outputs": []
    },
    {
      "cell_type": "code",
      "source": [
        "for col in columns[1:]: \n",
        "    plt.figure(figsize=(30,20))\n",
        "    plt.subplot(2,3,1)\n",
        "    sns.countplot(x=col ,hue='class', data=data ,palette='viridis_r')\n",
        "    plt.xlabel(col, fontsize=20)\n",
        "    plt.legend(loc='upper left')"
      ],
      "metadata": {
        "id": "FC0-m0yZUOPt"
      },
      "execution_count": null,
      "outputs": []
    },
    {
      "cell_type": "code",
      "source": [
        "[ pd.pivot_table(data, index=[col,\"class\"], aggfunc = {col:np.count_nonzero}) for col in columns[1:]]"
      ],
      "metadata": {
        "id": "d6feC9heUoAo"
      },
      "execution_count": null,
      "outputs": []
    },
    {
      "cell_type": "code",
      "source": [
        ""
      ],
      "metadata": {
        "id": "Ek4jU9lLU3gR"
      },
      "execution_count": null,
      "outputs": []
    }
  ]
}